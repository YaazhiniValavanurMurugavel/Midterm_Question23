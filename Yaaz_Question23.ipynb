{
 "cells": [
  {
   "cell_type": "code",
   "execution_count": null,
   "id": "8b88678f",
   "metadata": {},
   "outputs": [],
   "source": [
    "Question 23\n",
    "\n",
    "In a jupyter notebook solve the following question using python. Please upload the \n",
    "notebook to GitHub and provide the link submission box below.\n",
    "\n",
    "\n",
    "\n",
    "Develop a recursive function tough() that takes two nonnegative integer arguments and \n",
    "outputs a pattern as shown below. Hint: The first argument represents the indentation of the pattern, \n",
    "where the second argument -- always a pattern of 2 indicates the number *s in the longest line of \n",
    "*s in the pattern\n",
    "\n"
   ]
  },
  {
   "cell_type": "code",
   "execution_count": 1,
   "id": "eae7139f",
   "metadata": {},
   "outputs": [
    {
     "name": "stdout",
     "output_type": "stream",
     "text": [
      "Enter the indentation: 0\n",
      "Enter the no. of '*'s: 4\n",
      "*\n",
      "**\n",
      "  *\n",
      "***\n",
      "   *\n",
      "   **\n",
      "     *\n",
      "****\n",
      "    *\n",
      "    **\n",
      "      *\n",
      "    ***\n",
      "       *\n",
      "       **\n",
      "         *\n"
     ]
    }
   ],
   "source": [
    "def print_pattern(indent, stars):\n",
    "    if stars == 0:\n",
    "        return\n",
    "    space = ' ' * indent\n",
    "    print_pattern(indent, stars-1)\n",
    "    print(f\"{space}{'*' * stars}\")\n",
    "    print_pattern(indent + stars, stars-1)\n",
    "\n",
    "def run_print_pattern():\n",
    "    try:\n",
    "        indent = int(input(\"Enter the indentation: \"))\n",
    "        stars = int(input(\"Enter the no. of '*'s: \"))\n",
    "        if indent < 0 or stars < 0:\n",
    "            print(\"Enter input as a non-negative integers.\")\n",
    "        else:\n",
    "            print_pattern(indent, stars)\n",
    "    except ValueError:\n",
    "        print(\"Invalid . Enter a valid non-negative integer.\")\n",
    "\n",
    "run_print_pattern()"
   ]
  },
  {
   "cell_type": "code",
   "execution_count": null,
   "id": "17845c84",
   "metadata": {},
   "outputs": [],
   "source": []
  }
 ],
 "metadata": {
  "kernelspec": {
   "display_name": "Python 3 (ipykernel)",
   "language": "python",
   "name": "python3"
  },
  "language_info": {
   "codemirror_mode": {
    "name": "ipython",
    "version": 3
   },
   "file_extension": ".py",
   "mimetype": "text/x-python",
   "name": "python",
   "nbconvert_exporter": "python",
   "pygments_lexer": "ipython3",
   "version": "3.11.5"
  }
 },
 "nbformat": 4,
 "nbformat_minor": 5
}
